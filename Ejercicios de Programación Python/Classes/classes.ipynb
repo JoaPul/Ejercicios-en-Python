{
 "cells": [
  {
   "cell_type": "markdown",
   "metadata": {},
   "source": [
    "# Python Object-Oriented Programming "
   ]
  },
  {
   "cell_type": "code",
   "execution_count": 1,
   "metadata": {},
   "outputs": [
    {
     "name": "stdout",
     "output_type": "stream",
     "text": [
      "Corey.Schafer@gmail.com\n",
      "Carolina.Garduño@gmail.com\n"
     ]
    }
   ],
   "source": [
    "class Employee:\n",
    "    pass\n",
    "\n",
    "emp_1= Employee()\n",
    "emp_2= Employee()\n",
    "\n",
    "emp_1.first='Corey'\n",
    "emp_1.last='Schafer'\n",
    "emp_1.email='Corey.Schafer@gmail.com'\n",
    "emp_1.pay=50000\n",
    "\n",
    "emp_2.first='Carolina'\n",
    "emp_2.last='Garduño'\n",
    "emp_2.email='Carolina.Garduño@gmail.com'\n",
    "emp_2.pay=60000\n",
    "\n",
    "print(emp_1.email)\n",
    "print(emp_2.email)"
   ]
  },
  {
   "cell_type": "code",
   "execution_count": 3,
   "metadata": {},
   "outputs": [
    {
     "name": "stdout",
     "output_type": "stream",
     "text": [
      "Corey.John@gmail.com\n",
      "Test.Icls@gmail.com\n",
      "Corey John\n",
      "Test Icls\n"
     ]
    }
   ],
   "source": [
    "class Employee:\n",
    "    def __init__(self,first,last,pay):\n",
    "        self.first = first\n",
    "        self.last = last\n",
    "        self.pay = pay\n",
    "        self.email = first+'.'+last+'@gmail.com'\n",
    "\n",
    "    def fullName(self): #nunca olvides 'self'\n",
    "        return '{} {}'.format(self.first,self.last)\n",
    "\n",
    "emp_1= Employee('Corey','John',50000)\n",
    "emp_2= Employee('Test','Icls',60000)\n",
    "\n",
    "print(emp_1.email)\n",
    "print(emp_2.email)\n",
    "\n",
    "# print('{} {}'.format(emp_1.first,emp_1.last)) # esto es sin crear una funcion adentro del objeto que te haga esto\n",
    "print(emp_1.fullName())\n",
    "print(Employee.fullName(emp_2))"
   ]
  }
 ],
 "metadata": {
  "interpreter": {
   "hash": "a96415eab1e6960555b429df30199d8f69528bb460c9f293bbe5f488a58e6431"
  },
  "kernelspec": {
   "display_name": "Python 3.10.1 64-bit",
   "language": "python",
   "name": "python3"
  },
  "language_info": {
   "codemirror_mode": {
    "name": "ipython",
    "version": 3
   },
   "file_extension": ".py",
   "mimetype": "text/x-python",
   "name": "python",
   "nbconvert_exporter": "python",
   "pygments_lexer": "ipython3",
   "version": "3.10.1"
  },
  "orig_nbformat": 4
 },
 "nbformat": 4,
 "nbformat_minor": 2
}
