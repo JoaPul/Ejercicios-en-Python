{
 "cells": [
  {
   "cell_type": "code",
   "execution_count": 7,
   "metadata": {},
   "outputs": [
    {
     "name": "stdout",
     "output_type": "stream",
     "text": [
      "1 3 2\n",
      "6 8 1\n",
      "15 17 0\n",
      "2\n"
     ]
    }
   ],
   "source": [
    "arr=[[1,2,3],[4,5,6],[9,8,9]]\n",
    "\n",
    "def diagonalDifference(candles):\n",
    "    # Write your code here\n",
    "    ri=0\n",
    "    le=0\n",
    "    lo=len(arr)\n",
    "    for i in range(len(arr)):\n",
    "        ri=ri+arr[i][i]\n",
    "        le=le+arr[i][lo-1]\n",
    "        lo=lo-1\n",
    "    return abs(ri-le)\n",
    "\n",
    "print(diagonalDifference(arr))"
   ]
  },
  {
   "cell_type": "code",
   "execution_count": 6,
   "metadata": {},
   "outputs": [
    {
     "name": "stdout",
     "output_type": "stream",
     "text": [
      "0.375000\n",
      "0.375000\n",
      "0.125000\n"
     ]
    }
   ],
   "source": [
    "def plusMinus(arr):\n",
    "    po=0\n",
    "    neg=0\n",
    "    ze=0\n",
    "    for i in arr:\n",
    "        if i>0:\n",
    "            po+=1\n",
    "        elif i<0:\n",
    "            neg+=1\n",
    "        else:\n",
    "            ze+=1\n",
    "    po='{:.6f}'.format(po/len(arr)) \n",
    "    neg='{:.6f}'.format(neg/len(arr))\n",
    "    ze='{:.6f}'.format(ze/len(arr))\n",
    "    return print('{}\\n{}\\n{}'.format(po,neg,ze))\n",
    "\n",
    "plusMinus([1,2,3,-1,-2,-3,0,0])\n",
    "# print('{:.6f}'.format(0.0))"
   ]
  },
  {
   "cell_type": "code",
   "execution_count": 9,
   "metadata": {},
   "outputs": [
    {
     "name": "stdout",
     "output_type": "stream",
     "text": [
      "     #\n",
      "    ##\n",
      "   ###\n",
      "  ####\n",
      " #####\n",
      "######\n"
     ]
    },
    {
     "data": {
      "text/plain": [
       "True"
      ]
     },
     "execution_count": 9,
     "metadata": {},
     "output_type": "execute_result"
    }
   ],
   "source": [
    "def staircase(n):\n",
    "    a='#'\n",
    "    b=' '\n",
    "    for i in range(1,n+1,1):\n",
    "        spaces=(n-i)*b\n",
    "        num=i*a\n",
    "        print(spaces+num)\n",
    "    return True\n",
    "\n",
    "staircase(6)\n"
   ]
  },
  {
   "cell_type": "code",
   "execution_count": 11,
   "metadata": {},
   "outputs": [
    {
     "name": "stdout",
     "output_type": "stream",
     "text": [
      "[2, 7, 69, 221, 8974]\n",
      "299 9271\n"
     ]
    }
   ],
   "source": [
    "def miniMaxSum(arr):\n",
    "    # Write your code here\n",
    "    #primero se pone en orden la lista\n",
    "    for i in range(int(len(arr))):\n",
    "        for j in range(len(arr)-1):\n",
    "            if arr[j]>arr[j+1]:\n",
    "                aux = arr[j]\n",
    "                arr[j]=arr[j+1]\n",
    "                arr[j+1]=aux\n",
    "    print(arr)\n",
    "    #despues encuentras la suma mas grande y la suma mas pequeña\n",
    "    max = 0\n",
    "    min = 0\n",
    "    for i in range(len(arr)-1):\n",
    "        max = max + arr[i+1]\n",
    "        min = min + arr[i]\n",
    "    return print('{} {}'.format(min, max))\n",
    "    \n",
    "miniMaxSum([7,69,2,221,8974])"
   ]
  },
  {
   "cell_type": "code",
   "execution_count": 18,
   "metadata": {},
   "outputs": [
    {
     "name": "stdout",
     "output_type": "stream",
     "text": [
      "2\n"
     ]
    }
   ],
   "source": [
    "def birthdayCakeCandles(candles):\n",
    "    # Write your code here\n",
    "    nu=1\n",
    "    current=candles[0]\n",
    "    for k in range(1,len(candles),1): \n",
    "        if current<candles[k]:\n",
    "            current=candles[k]\n",
    "            nu=1\n",
    "        elif current==candles[k]:\n",
    "                nu+=1\n",
    "\n",
    "\n",
    "    return print(nu)\n",
    "\n",
    "birthdayCakeCandles([3,2,1,3])"
   ]
  },
  {
   "cell_type": "code",
   "execution_count": 32,
   "metadata": {},
   "outputs": [
    {
     "name": "stdout",
     "output_type": "stream",
     "text": [
      "00:05:39\n"
     ]
    }
   ],
   "source": [
    "def timeConversion(s):\n",
    "    # Write your code here\n",
    "    a=s[:8] # [de donde : hasta donde : cada cuantos] (si el numero no se especifica en las posisiones se toma como 'primero y/o ultimo')\n",
    "    if s[-2]=='P':\n",
    "        pos = int(a[:2])\n",
    "        pos=str(pos+12)\n",
    "        a=pos[0]+pos[1]+a[2:]\n",
    "    else:\n",
    "        pos=a[:2]\n",
    "        if pos=='12':\n",
    "            a='00'+a[2:]\n",
    "    return print(a)\n",
    "\n",
    "timeConversion('12:05:39AM')"
   ]
  },
  {
   "cell_type": "code",
   "execution_count": 7,
   "metadata": {},
   "outputs": [
    {
     "name": "stdout",
     "output_type": "stream",
     "text": [
      "[23, 40, 45, 67, 85]\n"
     ]
    }
   ],
   "source": [
    "def gradingStudents(grades):\n",
    "    # Write your code here\n",
    "    for i in range(len(grades)):\n",
    "        if grades[i]>37:\n",
    "            c=40\n",
    "            while c<=grades[i]:\n",
    "                c=c+5\n",
    "            if c-grades[i]<3:\n",
    "                grades[i]=c\n",
    "    return grades\n",
    "\n",
    "print(gradingStudents([23,38,44,67,83.5]))"
   ]
  },
  {
   "cell_type": "code",
   "execution_count": 9,
   "metadata": {},
   "outputs": [
    {
     "name": "stdout",
     "output_type": "stream",
     "text": [
      "[1, 1]\n"
     ]
    }
   ],
   "source": [
    "def countApplesAndOranges(s, t, a, b, apples, oranges):\n",
    "    # Write your code here\n",
    "    res=[]\n",
    "    app=0\n",
    "    for i in range(len(apples)):\n",
    "        apples[i] = apples[i]+a\n",
    "        if apples[i]<=t and apples[i]>=s:\n",
    "            app+=1\n",
    "    res.append(app)\n",
    "    ora=0\n",
    "    for i in range(len(oranges)):\n",
    "        oranges[i] = oranges[i]+b\n",
    "        if oranges[i]<=t and oranges[i]>=s:\n",
    "            ora+=1\n",
    "    res.append(ora)\n",
    "    return res\n",
    "\n",
    "print(countApplesAndOranges(7,11,5,15,[-2,2,1],[5,-6]))\n"
   ]
  },
  {
   "cell_type": "code",
   "execution_count": 11,
   "metadata": {},
   "outputs": [
    {
     "name": "stdout",
     "output_type": "stream",
     "text": [
      "YES\n"
     ]
    }
   ],
   "source": [
    "def kangaroo(x1, v1, x2, v2):\n",
    "    # Write your code here\n",
    "    if abs(x1 - x2)>abs((x1+v1) - (x2+v2)): \n",
    "        if x1>x2:\n",
    "            auv=v1\n",
    "            aux=x1\n",
    "            x1=x2\n",
    "            x2=aux\n",
    "            v1=v2\n",
    "            v2=auv\n",
    "        while x1<x2:\n",
    "            x1=x1+v1\n",
    "            x2=x2+v2\n",
    "        if x1==x2:\n",
    "            return 'YES'\n",
    "        if x1>x2:\n",
    "            return 'NO'\n",
    "    else:\n",
    "        return 'NO'\n",
    "\n",
    "print(kangaroo(0,3,4,2))"
   ]
  },
  {
   "cell_type": "code",
   "execution_count": 18,
   "metadata": {},
   "outputs": [
    {
     "name": "stdout",
     "output_type": "stream",
     "text": [
      "9\n"
     ]
    }
   ],
   "source": [
    "def getTotalX(a, b):\n",
    "    # Write your code here\n",
    "    c=0\n",
    "    for i in range(len(a)):\n",
    "        for j in range(len(a)-1):\n",
    "            if a[j]>a[j+1]:\n",
    "                aux=a[j]\n",
    "                a[j]=a[j+1]\n",
    "                a[j+1]=aux\n",
    "    for i in range(len(b)):\n",
    "        for j in range(len(b)-1):\n",
    "            if b[j]>b[j+1]:\n",
    "                aux=b[j]\n",
    "                b[j]=b[j+1]\n",
    "                b[j+1]=aux\n",
    "\n",
    "    for i in range(1,b[-1]+1,1):\n",
    "        cb=0\n",
    "        ca=0\n",
    "        for j in range(len(a)):\n",
    "            if i%a[j]==0:\n",
    "                ca+=1\n",
    "        for j in range(len(b)):\n",
    "            if b[j]%i==0:\n",
    "                cb+=1\n",
    "        if cb==len(b) and ca==len(a):\n",
    "            c+=1\n",
    "    return c\n",
    "\n",
    "print(getTotalX([1],[100]))"
   ]
  },
  {
   "cell_type": "code",
   "execution_count": null,
   "metadata": {},
   "outputs": [],
   "source": []
  }
 ],
 "metadata": {
  "interpreter": {
   "hash": "a96415eab1e6960555b429df30199d8f69528bb460c9f293bbe5f488a58e6431"
  },
  "kernelspec": {
   "display_name": "Python 3.10.1 64-bit",
   "language": "python",
   "name": "python3"
  },
  "language_info": {
   "codemirror_mode": {
    "name": "ipython",
    "version": 3
   },
   "file_extension": ".py",
   "mimetype": "text/x-python",
   "name": "python",
   "nbconvert_exporter": "python",
   "pygments_lexer": "ipython3",
   "version": "3.10.1"
  },
  "orig_nbformat": 4
 },
 "nbformat": 4,
 "nbformat_minor": 2
}
