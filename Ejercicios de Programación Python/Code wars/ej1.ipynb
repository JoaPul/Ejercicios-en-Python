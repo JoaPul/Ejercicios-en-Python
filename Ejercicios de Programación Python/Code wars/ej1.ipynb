{
 "cells": [
  {
   "cell_type": "markdown",
   "metadata": {},
   "source": [
    "# Ejercicio 1"
   ]
  },
  {
   "cell_type": "code",
   "execution_count": 1,
   "metadata": {},
   "outputs": [
    {
     "name": "stdout",
     "output_type": "stream",
     "text": [
      "How Can Mirrors Be Real If Our Eyes Aren't Real\n"
     ]
    }
   ],
   "source": [
    "def to_jaden_case(string):\n",
    "    # ...\n",
    "    # return string.title()\n",
    "    # return string.capwords(string)\n",
    "    string=string.split(' ')\n",
    "    new=[]\n",
    "    for i in string:\n",
    "        # print()\n",
    "        \n",
    "        new.append(i[0].upper()+i[1:])\n",
    "    \n",
    "    return \" \".join(new)\n",
    "    \n",
    "\n",
    "print(to_jaden_case(\"How can mirrors be real if our eyes aren't real\"))"
   ]
  },
  {
   "cell_type": "code",
   "execution_count": 24,
   "metadata": {},
   "outputs": [
    {
     "name": "stdout",
     "output_type": "stream",
     "text": [
      "How Can Mirrors Be Real If Our Eyes Aren't Real\n"
     ]
    }
   ],
   "source": [
    "def toJadenCase(string):        \n",
    "    return \" \".join(w.capitalize() for w in string.split())\n",
    "\n",
    "print(to_jaden_case(\"How can mirrors be real if our eyes aren't real\"))"
   ]
  },
  {
   "cell_type": "markdown",
   "metadata": {},
   "source": [
    "# Ejercicio 2"
   ]
  },
  {
   "cell_type": "code",
   "execution_count": 6,
   "metadata": {},
   "outputs": [
    {
     "name": "stdout",
     "output_type": "stream",
     "text": [
      "ATGC\n",
      "TACG\n"
     ]
    }
   ],
   "source": [
    "def DNA_strand(dna):\n",
    "    # code here\n",
    "    aux=[]\n",
    "    for i in dna:\n",
    "        if i == \"A\":\n",
    "            aux.append(\"T\")\n",
    "        elif i == \"T\":\n",
    "            aux.append(\"A\")\n",
    "        elif i == \"C\":\n",
    "            aux.append(\"G\")\n",
    "        elif i == \"G\":\n",
    "            aux.append(\"C\")\n",
    "    \n",
    "    print(dna)\n",
    "    return \"\".join(aux)\n",
    "\n",
    "print(DNA_strand(\"ATGC\"))\n",
    "    "
   ]
  },
  {
   "cell_type": "code",
   "execution_count": 7,
   "metadata": {},
   "outputs": [
    {
     "name": "stdout",
     "output_type": "stream",
     "text": [
      "TACG\n"
     ]
    }
   ],
   "source": [
    "pairs = {'A':'T','T':'A','C':'G','G':'C'}\n",
    "def DNA_strand(dna):\n",
    "    return ''.join([pairs[x] for x in dna])\n",
    "\n",
    "print(DNA_strand(\"ATGC\"))"
   ]
  },
  {
   "cell_type": "markdown",
   "metadata": {},
   "source": [
    "# Ejercicio 3"
   ]
  },
  {
   "cell_type": "code",
   "execution_count": 28,
   "metadata": {},
   "outputs": [
    {
     "name": "stdout",
     "output_type": "stream",
     "text": [
      "6\n"
     ]
    }
   ],
   "source": [
    "def summation(num):\n",
    "    pass\n",
    "    # a=0\n",
    "    # for i in range(1,num+1,1):\n",
    "    #     a=a+i\n",
    "    #     print(a)\n",
    "    # return a\n",
    "    return sum((i for i in range(num+1)),0)\n",
    "\n",
    "print(summation(3))"
   ]
  },
  {
   "cell_type": "markdown",
   "metadata": {},
   "source": [
    "# Ejercicio 4"
   ]
  },
  {
   "cell_type": "code",
   "execution_count": 30,
   "metadata": {},
   "outputs": [
    {
     "name": "stdout",
     "output_type": "stream",
     "text": [
      "loquen\n"
     ]
    }
   ],
   "source": [
    "def remove_char(s):\n",
    "    #your code here\n",
    "    a=[]\n",
    "    if len(s) > 2:\n",
    "        for i in range(len(s)):\n",
    "            if i>0 and i<len(s)-1:\n",
    "                a.append(s[i])\n",
    "        return ''.join(a)\n",
    "    else:\n",
    "        return ''\n",
    "\n",
    "print(remove_char(\"eloquent\"))"
   ]
  },
  {
   "cell_type": "code",
   "execution_count": 32,
   "metadata": {},
   "outputs": [
    {
     "name": "stdout",
     "output_type": "stream",
     "text": [
      "sdfasdfasd\n"
     ]
    }
   ],
   "source": [
    "def remove_char(s):\n",
    "    return s[1 : -1]\n",
    "\n",
    "print(remove_char(\"asdfasdfasdf\"))"
   ]
  },
  {
   "cell_type": "markdown",
   "metadata": {},
   "source": [
    "# Ejercicio 5"
   ]
  },
  {
   "cell_type": "code",
   "execution_count": 35,
   "metadata": {},
   "outputs": [
    {
     "name": "stdout",
     "output_type": "stream",
     "text": [
      "hello world\n"
     ]
    }
   ],
   "source": [
    "def greet():\n",
    "    a=[]\n",
    "    b=\"hello world\"\n",
    "    for i in range(11):\n",
    "        a.append(b[i])\n",
    "    return ''.join(a)\n",
    "\n",
    "print(greet())"
   ]
  },
  {
   "cell_type": "markdown",
   "metadata": {},
   "source": [
    "# Ejercicio 6"
   ]
  },
  {
   "cell_type": "code",
   "execution_count": 42,
   "metadata": {},
   "outputs": [
    {
     "name": "stdout",
     "output_type": "stream",
     "text": [
      "False\n"
     ]
    }
   ],
   "source": [
    "def number_to_string(num):\n",
    "    # Return a string of the number here!\n",
    "    return str(num)\n",
    "\n",
    "a=number_to_string(123)\n",
    "print(a.isalpha())"
   ]
  },
  {
   "cell_type": "markdown",
   "metadata": {},
   "source": [
    "# Ejercicio 7"
   ]
  },
  {
   "cell_type": "code",
   "execution_count": 45,
   "metadata": {},
   "outputs": [
    {
     "name": "stdout",
     "output_type": "stream",
     "text": [
      "17\n"
     ]
    }
   ],
   "source": [
    "def count_sheeps(sheep):\n",
    "    #TODO May the force be with you\n",
    "    pass\n",
    "    a=0;\n",
    "    for i in sheep:\n",
    "        if i==True:\n",
    "            a+=1;\n",
    "    return a\n",
    "\n",
    "print(count_sheeps([True,  True,  True,  False,True,  True,  True,  True ,  True,  False, True,  False,  True,  False, False, True ,  True,  True,  True,  True ,  False, False, True,  True]))\n"
   ]
  },
  {
   "cell_type": "code",
   "execution_count": 46,
   "metadata": {},
   "outputs": [
    {
     "name": "stdout",
     "output_type": "stream",
     "text": [
      "17\n"
     ]
    }
   ],
   "source": [
    "def count_sheeps(arrayOfSheeps):\n",
    "  return arrayOfSheeps.count(True)\n",
    "\n",
    "print(count_sheeps([True,  True,  True,  False,True,  True,  True,  True ,  True,  False, True,  False,  True,  False, False, True ,  True,  True,  True,  True ,  False, False, True,  True]))"
   ]
  },
  {
   "cell_type": "markdown",
   "metadata": {},
   "source": [
    "# Ejercicio 8"
   ]
  },
  {
   "cell_type": "code",
   "execution_count": 48,
   "metadata": {},
   "outputs": [
    {
     "name": "stdout",
     "output_type": "stream",
     "text": [
      "8/22\n"
     ]
    }
   ],
   "source": [
    "def printer_error(s):\n",
    "    # your code\n",
    "    e=0\n",
    "    for i in s:\n",
    "        if i>\"m\":\n",
    "            e+=1\n",
    "\n",
    "    return str(e)+\"/\"+str(len(s))\n",
    "\n",
    "print(printer_error(\"aaaxbbbbyyhwawiwjjjwwm\"))"
   ]
  },
  {
   "cell_type": "markdown",
   "metadata": {},
   "source": [
    "# Ejercicio 9"
   ]
  },
  {
   "cell_type": "code",
   "execution_count": 1,
   "metadata": {},
   "outputs": [
    {
     "name": "stdout",
     "output_type": "stream",
     "text": [
      "Alex, Jacob and 2 others like this\n"
     ]
    }
   ],
   "source": [
    "def likes(names):\n",
    "    # your code here\n",
    "    pass\n",
    "    if len(names) == 0:\n",
    "        return \"no one likes this\"\n",
    "    elif len(names) == 1:\n",
    "        return \"{} likes this\".format(names[0])\n",
    "    elif len(names) == 2:\n",
    "        return \"{} and {} like this\".format(names[0], names[1])\n",
    "    elif len(names) == 3:\n",
    "        return \"{}, {} and {} like this\".format(names[0], names[1],names[2])\n",
    "    else:\n",
    "        return \"{}, {} and {} others like this\".format(names[0], names[1],len(names)-2)\n",
    "\n",
    "print(likes(['Alex', 'Jacob', 'Mark', 'Max']))"
   ]
  },
  {
   "cell_type": "code",
   "execution_count": null,
   "metadata": {},
   "outputs": [],
   "source": [
    "def likes(names):\n",
    "    n = len(names)\n",
    "    return {\n",
    "        0: 'no one likes this',\n",
    "        1: '{} likes this', \n",
    "        2: '{} and {} like this', \n",
    "        3: '{}, {} and {} like this', \n",
    "        4: '{}, {} and {others} others like this'\n",
    "    }[min(4, n)].format(*names[:3], others=n-2)"
   ]
  },
  {
   "cell_type": "markdown",
   "metadata": {},
   "source": [
    "# Ejercicio 10"
   ]
  },
  {
   "cell_type": "code",
   "execution_count": 3,
   "metadata": {},
   "outputs": [
    {
     "name": "stdout",
     "output_type": "stream",
     "text": [
      "2\n"
     ]
    }
   ],
   "source": [
    "def find_it(seq):\n",
    "    for i in seq:\n",
    "        c=0\n",
    "        for j in seq:\n",
    "            if i==j:\n",
    "                c+=1\n",
    "        if c%2!=0:\n",
    "            return i\n",
    "\n",
    "print(find_it([1,1,2]))"
   ]
  },
  {
   "cell_type": "code",
   "execution_count": null,
   "metadata": {},
   "outputs": [],
   "source": [
    "def find_it(seq):\n",
    "    for i in seq:\n",
    "        if seq.count(i)%2!=0:\n",
    "            return i"
   ]
  },
  {
   "cell_type": "markdown",
   "metadata": {},
   "source": [
    "# Ejercicio 11"
   ]
  },
  {
   "cell_type": "code",
   "execution_count": 1,
   "metadata": {},
   "outputs": [
    {
     "name": "stdout",
     "output_type": "stream",
     "text": [
      "['This', 'is', 'an', 'example!']\n"
     ]
    }
   ],
   "source": [
    "def reverse_words(text):\n",
    "    textt = text.split(\" \")\n",
    "    revText =  []\n",
    "    for i in textt:\n",
    "      aux = 0\n",
    "\n",
    "    print(revText)\n",
    "\n",
    "reverse_words(\"This is an example!\")"
   ]
  },
  {
   "cell_type": "markdown",
   "metadata": {},
   "source": [
    "# Ejercicio 12"
   ]
  },
  {
   "cell_type": "code",
   "execution_count": 5,
   "metadata": {},
   "outputs": [
    {
     "name": "stdout",
     "output_type": "stream",
     "text": [
      "5\n"
     ]
    }
   ],
   "source": [
    "def get_count(sentence):\n",
    "    pass\n",
    "    count=0\n",
    "    for i in sentence:\n",
    "        if i==\"a\" or i==\"e\" or i==\"i\" or i==\"o\" or i==\"u\":\n",
    "            count+=1\n",
    "    \n",
    "    return count\n",
    "\n",
    "print(get_count(\"aeiou\"))"
   ]
  },
  {
   "cell_type": "code",
   "execution_count": null,
   "metadata": {},
   "outputs": [],
   "source": [
    "def getCount(s):\n",
    "    return sum(c in 'aeiou' for c in s)"
   ]
  },
  {
   "cell_type": "markdown",
   "metadata": {},
   "source": [
    "# Ejercicio 13"
   ]
  },
  {
   "cell_type": "code",
   "execution_count": 7,
   "metadata": {},
   "outputs": [
    {
     "name": "stdout",
     "output_type": "stream",
     "text": [
      "[1, 2, 3, 4, 5, 6, 7, 8, 9, 10]\n"
     ]
    }
   ],
   "source": [
    "def count_by(x, n):\n",
    "    aux=[]\n",
    "    for i in range(n):\n",
    "        aux.append((1+i)*x)\n",
    "\n",
    "    return aux\n",
    "\n",
    "print(count_by(1,10))"
   ]
  },
  {
   "cell_type": "code",
   "execution_count": null,
   "metadata": {},
   "outputs": [],
   "source": [
    "def count_by(x, n):\n",
    "    \"\"\"\n",
    "    Return a sequence of numbers counting by `x` `n` times.\n",
    "    \"\"\"\n",
    "    return range(x, x * n + 1, x)"
   ]
  },
  {
   "cell_type": "markdown",
   "metadata": {},
   "source": [
    "# Ejercicio 14"
   ]
  },
  {
   "cell_type": "code",
   "execution_count": 8,
   "metadata": {},
   "outputs": [
    {
     "name": "stdout",
     "output_type": "stream",
     "text": [
      "61000\n"
     ]
    }
   ],
   "source": [
    "def past(h, m, s):\n",
    "    # Good Luck!\n",
    "    h=h*3600;\n",
    "    m=m*60;\n",
    "    return (h+m+s)*1000\n",
    "\n",
    "print(past(0,1,1))"
   ]
  },
  {
   "cell_type": "markdown",
   "metadata": {},
   "source": [
    "# Ejercicio 15"
   ]
  },
  {
   "cell_type": "code",
   "execution_count": 9,
   "metadata": {},
   "outputs": [
    {
     "name": "stdout",
     "output_type": "stream",
     "text": [
      "True\n"
     ]
    }
   ],
   "source": [
    "def zero_fuel(distance_to_pump, mpg, fuel_left):\n",
    "    #Happy Coding! ;)\n",
    "    if fuel_left*mpg>=distance_to_pump:\n",
    "        return True\n",
    "    else:\n",
    "        return False\n",
    "\n",
    "print(zero_fuel(50,25,2))"
   ]
  },
  {
   "cell_type": "code",
   "execution_count": null,
   "metadata": {},
   "outputs": [],
   "source": [
    "def zeroFuel(distance_to_pump, mpg, fuel_left):\n",
    "    return distance_to_pump <= mpg * fuel_left"
   ]
  }
 ],
 "metadata": {
  "interpreter": {
   "hash": "a96415eab1e6960555b429df30199d8f69528bb460c9f293bbe5f488a58e6431"
  },
  "kernelspec": {
   "display_name": "Python 3.10.1 64-bit",
   "language": "python",
   "name": "python3"
  },
  "language_info": {
   "codemirror_mode": {
    "name": "ipython",
    "version": 3
   },
   "file_extension": ".py",
   "mimetype": "text/x-python",
   "name": "python",
   "nbconvert_exporter": "python",
   "pygments_lexer": "ipython3",
   "version": "3.10.4"
  },
  "orig_nbformat": 4
 },
 "nbformat": 4,
 "nbformat_minor": 2
}
